{
 "cells": [
  {
   "cell_type": "code",
   "execution_count": null,
   "metadata": {},
   "outputs": [],
   "source": [
    "# %pip install pandas numpy\n",
    "# %pip install tensorflow\n",
    "# %pip install torch torchvision torchaudio\n",
    "# %pip install scikit-learn\n",
    "# %pip install RDKit\n",
    "# %pip install matplotlib networkx\n",
    "# %pip install dgllife\n",
    "# %pip install torch_geometric\n",
    "# %pip install torch torchvision torchaudio\n",
    "# %pip install deepchem\n",
    "# %pip install deepchem\\[torch\\]\n",
    "# %pip install transformers"
   ]
  },
  {
   "cell_type": "markdown",
   "metadata": {},
   "source": [
    "# | Import data"
   ]
  },
  {
   "cell_type": "code",
   "execution_count": 12,
   "metadata": {},
   "outputs": [
    {
     "data": {
      "application/vnd.microsoft.datawrangler.viewer.v0+json": {
       "columns": [
        {
         "name": "index",
         "rawType": "int64",
         "type": "integer"
        },
        {
         "name": "NR-AR",
         "rawType": "float64",
         "type": "float"
        },
        {
         "name": "NR-AR-LBD",
         "rawType": "float64",
         "type": "float"
        },
        {
         "name": "NR-AhR",
         "rawType": "float64",
         "type": "float"
        },
        {
         "name": "NR-Aromatase",
         "rawType": "float64",
         "type": "float"
        },
        {
         "name": "NR-ER",
         "rawType": "float64",
         "type": "float"
        },
        {
         "name": "NR-ER-LBD",
         "rawType": "float64",
         "type": "float"
        },
        {
         "name": "NR-PPAR-gamma",
         "rawType": "float64",
         "type": "float"
        },
        {
         "name": "SR-ARE",
         "rawType": "float64",
         "type": "float"
        },
        {
         "name": "SR-ATAD5",
         "rawType": "float64",
         "type": "float"
        },
        {
         "name": "SR-HSE",
         "rawType": "float64",
         "type": "float"
        },
        {
         "name": "SR-MMP",
         "rawType": "float64",
         "type": "float"
        },
        {
         "name": "SR-p53",
         "rawType": "float64",
         "type": "float"
        },
        {
         "name": "mol_id",
         "rawType": "object",
         "type": "string"
        },
        {
         "name": "smiles",
         "rawType": "object",
         "type": "string"
        }
       ],
       "conversionMethod": "pd.DataFrame",
       "ref": "3b752ac9-aa26-455f-9ff7-ee48e17de191",
       "rows": [
        [
         "0",
         "0.0",
         "0.0",
         "1.0",
         null,
         null,
         "0.0",
         "0.0",
         "1.0",
         "0.0",
         "0.0",
         "0.0",
         "0.0",
         "TOX3021",
         "CCOc1ccc2nc(S(N)(=O)=O)sc2c1"
        ],
        [
         "1",
         "0.0",
         "0.0",
         "0.0",
         "0.0",
         "0.0",
         "0.0",
         "0.0",
         null,
         "0.0",
         null,
         "0.0",
         "0.0",
         "TOX3020",
         "CCN1C(=O)NC(c2ccccc2)C1=O"
        ]
       ],
       "shape": {
        "columns": 14,
        "rows": 2
       }
      },
      "text/html": [
       "<div>\n",
       "<style scoped>\n",
       "    .dataframe tbody tr th:only-of-type {\n",
       "        vertical-align: middle;\n",
       "    }\n",
       "\n",
       "    .dataframe tbody tr th {\n",
       "        vertical-align: top;\n",
       "    }\n",
       "\n",
       "    .dataframe thead th {\n",
       "        text-align: right;\n",
       "    }\n",
       "</style>\n",
       "<table border=\"1\" class=\"dataframe\">\n",
       "  <thead>\n",
       "    <tr style=\"text-align: right;\">\n",
       "      <th></th>\n",
       "      <th>NR-AR</th>\n",
       "      <th>NR-AR-LBD</th>\n",
       "      <th>NR-AhR</th>\n",
       "      <th>NR-Aromatase</th>\n",
       "      <th>NR-ER</th>\n",
       "      <th>NR-ER-LBD</th>\n",
       "      <th>NR-PPAR-gamma</th>\n",
       "      <th>SR-ARE</th>\n",
       "      <th>SR-ATAD5</th>\n",
       "      <th>SR-HSE</th>\n",
       "      <th>SR-MMP</th>\n",
       "      <th>SR-p53</th>\n",
       "      <th>mol_id</th>\n",
       "      <th>smiles</th>\n",
       "    </tr>\n",
       "  </thead>\n",
       "  <tbody>\n",
       "    <tr>\n",
       "      <th>0</th>\n",
       "      <td>0.0</td>\n",
       "      <td>0.0</td>\n",
       "      <td>1.0</td>\n",
       "      <td>NaN</td>\n",
       "      <td>NaN</td>\n",
       "      <td>0.0</td>\n",
       "      <td>0.0</td>\n",
       "      <td>1.0</td>\n",
       "      <td>0.0</td>\n",
       "      <td>0.0</td>\n",
       "      <td>0.0</td>\n",
       "      <td>0.0</td>\n",
       "      <td>TOX3021</td>\n",
       "      <td>CCOc1ccc2nc(S(N)(=O)=O)sc2c1</td>\n",
       "    </tr>\n",
       "    <tr>\n",
       "      <th>1</th>\n",
       "      <td>0.0</td>\n",
       "      <td>0.0</td>\n",
       "      <td>0.0</td>\n",
       "      <td>0.0</td>\n",
       "      <td>0.0</td>\n",
       "      <td>0.0</td>\n",
       "      <td>0.0</td>\n",
       "      <td>NaN</td>\n",
       "      <td>0.0</td>\n",
       "      <td>NaN</td>\n",
       "      <td>0.0</td>\n",
       "      <td>0.0</td>\n",
       "      <td>TOX3020</td>\n",
       "      <td>CCN1C(=O)NC(c2ccccc2)C1=O</td>\n",
       "    </tr>\n",
       "  </tbody>\n",
       "</table>\n",
       "</div>"
      ],
      "text/plain": [
       "   NR-AR  NR-AR-LBD  NR-AhR  NR-Aromatase  NR-ER  NR-ER-LBD  NR-PPAR-gamma  \\\n",
       "0    0.0        0.0     1.0           NaN    NaN        0.0            0.0   \n",
       "1    0.0        0.0     0.0           0.0    0.0        0.0            0.0   \n",
       "\n",
       "   SR-ARE  SR-ATAD5  SR-HSE  SR-MMP  SR-p53   mol_id  \\\n",
       "0     1.0       0.0     0.0     0.0     0.0  TOX3021   \n",
       "1     NaN       0.0     NaN     0.0     0.0  TOX3020   \n",
       "\n",
       "                         smiles  \n",
       "0  CCOc1ccc2nc(S(N)(=O)=O)sc2c1  \n",
       "1     CCN1C(=O)NC(c2ccccc2)C1=O  "
      ]
     },
     "execution_count": 12,
     "metadata": {},
     "output_type": "execute_result"
    }
   ],
   "source": [
    "import pandas as pd\n",
    "tox_data = pd.read_csv('../data/tox21.csv')\n",
    "tox_data.head(2)"
   ]
  },
  {
   "cell_type": "code",
   "execution_count": 13,
   "metadata": {},
   "outputs": [
    {
     "data": {
      "image/jpeg": "[encoded data removed]",
      "image/png": "[encoded data removed]",
      "text/plain": [
       "<PIL.PngImagePlugin.PngImageFile image mode=RGB size=300x300>"
      ]
     },
     "execution_count": 13,
     "metadata": {},
     "output_type": "execute_result"
    }
   ],
   "source": [
    "from rdkit import Chem\n",
    "from rdkit.Chem import Draw\n",
    "import networkx as nx\n",
    "import matplotlib.pyplot as plt\n",
    "\n",
    "smiles_sample = tox_data['smiles'][0].strip()\n",
    "mol = Chem.MolFromSmiles(smiles_sample)\n",
    "Draw.MolToImage(mol)\n"
   ]
  },
  {
   "cell_type": "code",
   "execution_count": 14,
   "metadata": {},
   "outputs": [],
   "source": [
    "# for atom in mol.GetAtoms():\n",
    "#     print(f\"Atom index: {atom.GetIdx()}\")\n",
    "#     print(f\" - Symbol: {atom.GetSymbol()}\")\n",
    "#     print(f\" - Atomic Number: {atom.GetAtomicNum()}\")\n",
    "#     print(f\" - Formal Charge: {atom.GetFormalCharge()}\")\n",
    "#     print(f\" - Is Aromatic: {atom.GetIsAromatic()}\")\n",
    "#     print(f\" - Hybridization: {atom.GetHybridization()}\")\n",
    "#     print(f\" - Degree: {atom.GetDegree()}\")  # number of connected atoms\n",
    "#     print(f\" - Implicit Hs: {atom.GetNumImplicitHs()}\")\n",
    "#     print(f\" - Explicit Hs: {atom.GetTotalNumHs()}\")\n",
    "#     print(f\" - In Ring: {atom.IsInRing()}\")\n",
    "#     print(f\" - Chirality: {atom.GetChiralTag()}\")\n",
    "#     print()"
   ]
  },
  {
   "cell_type": "markdown",
   "metadata": {},
   "source": [
    "#### Show as graph"
   ]
  },
  {
   "cell_type": "code",
   "execution_count": 3,
   "metadata": {},
   "outputs": [
    {
     "data": {
      "image/png": "[encoded data removed]",
      "text/plain": [
       "<Figure size 600x500 with 1 Axes>"
      ]
     },
     "metadata": {},
     "output_type": "display_data"
    }
   ],
   "source": [
    "def smiles_to_graph(smiles):\n",
    "    mol = Chem.MolFromSmiles(smiles)\n",
    "    G = nx.Graph()\n",
    "    \n",
    "    # 添加原子节点\n",
    "    for atom in mol.GetAtoms():\n",
    "        idx = atom.GetIdx()\n",
    "        G.add_node(idx, label=atom.GetSymbol())\n",
    "    \n",
    "    # 添加键（边）\n",
    "    for bond in mol.GetBonds():\n",
    "        a1 = bond.GetBeginAtomIdx()\n",
    "        a2 = bond.GetEndAtomIdx()\n",
    "        bond_type = str(bond.GetBondType())\n",
    "        G.add_edge(a1, a2, label=bond_type)\n",
    "    \n",
    "    return G, mol\n",
    "\n",
    "def draw_graph(G):\n",
    "    pos = nx.spring_layout(G)\n",
    "    labels = nx.get_node_attributes(G, 'label')\n",
    "    edge_labels = nx.get_edge_attributes(G, 'label')\n",
    "\n",
    "    plt.figure(figsize=(6, 5))\n",
    "    nx.draw(G, pos, with_labels=True, labels=labels, node_color='lightblue', node_size=1000, font_size=12)\n",
    "    nx.draw_networkx_edge_labels(G, pos, edge_labels=edge_labels, font_color='red')\n",
    "    plt.title(\"Molecular Graph\")\n",
    "    plt.axis('off')\n",
    "    plt.show()\n",
    "    \n",
    "    \n",
    "G, mol = smiles_to_graph(smiles_sample)\n",
    "draw_graph(G)"
   ]
  },
  {
   "cell_type": "markdown",
   "metadata": {},
   "source": [
    "# | Model"
   ]
  },
  {
   "cell_type": "markdown",
   "metadata": {},
   "source": [
    "## 1. GCN\n",
    "(Hard to use) <br>\n",
    "DeepChem: https://github.com/deepchem/deepchem?tab=readme-ov-file#installation"
   ]
  },
  {
   "cell_type": "code",
   "execution_count": null,
   "metadata": {},
   "outputs": [],
   "source": [
    "# %pip uninstall dgl -y\n",
    "# %pip install dgl==1.1.2 -f https://data.dgl.ai/wheels/repo.html"
   ]
  },
  {
   "cell_type": "code",
   "execution_count": 6,
   "metadata": {},
   "outputs": [],
   "source": [
    "import torch\n",
    "import torch.nn as nn\n",
    "from deepchem.models.torch_models.layers import GraphConv, GraphGather, GraphPool"
   ]
  },
  {
   "cell_type": "code",
   "execution_count": 7,
   "metadata": {},
   "outputs": [],
   "source": [
    "tasks = ['NR-AR', 'NR-AR-LBD', 'NR-AhR', 'NR-Aromatase', 'NR-ER', 'NR-ER-LBD',\n",
    "         'NR-PPAR-gamma', 'SR-ARE', 'SR-ATAD5', 'SR-HSE', 'SR-MMP', 'SR-p53']"
   ]
  },
  {
   "cell_type": "code",
   "execution_count": null,
   "metadata": {},
   "outputs": [],
   "source": [
    "# from rdkit import Chem\n",
    "\n",
    "# # Drop rows with missing or invalid SMILES\n",
    "# df = tox_data.dropna(subset=['smiles'])\n",
    "# df = df[df['smiles'].apply(lambda x: Chem.MolFromSmiles(x) is not None)]\n",
    "\n",
    "# # Convert labels to floats, and force non-numeric values (e.g., \"nan\") to np.nan\n",
    "# tasks = ['NR-AR', 'NR-AR-LBD', 'NR-AhR', 'NR-Aromatase', 'NR-ER', 'NR-ER-LBD',\n",
    "#          'NR-PPAR-gamma', 'SR-ARE', 'SR-ATAD5', 'SR-HSE', 'SR-MMP', 'SR-p53']\n",
    "# df[tasks] = df[tasks].apply(pd.to_numeric, errors='coerce')\n",
    "\n",
    "# # Save cleaned file\n",
    "# df.to_csv('tox21_cleaned.csv', index=False)"
   ]
  },
  {
   "cell_type": "code",
   "execution_count": 24,
   "metadata": {},
   "outputs": [],
   "source": [
    "# import deepchem as dc\n",
    "# tasks=['NR-AR', 'NR-AR-LBD', 'NR-AhR', 'NR-Aromatase', 'NR-ER', 'NR-ER-LBD',\n",
    "#            'NR-PPAR-gamma', 'SR-ARE', 'SR-ATAD5', 'SR-HSE', 'SR-MMP', 'SR-p53']\n",
    "\n",
    "# # Load your dataset\n",
    "# loader = dc.data.CSVLoader(\n",
    "#     tasks=['NR-AR', 'NR-AR-LBD', 'NR-AhR', 'NR-Aromatase', 'NR-ER', 'NR-ER-LBD',\n",
    "#            'NR-PPAR-gamma', 'SR-ARE', 'SR-ATAD5', 'SR-HSE', 'SR-MMP', 'SR-p53'],\n",
    "#     feature_field=\"smiles\",\n",
    "#     featurizer=dc.feat.MolGraphConvFeaturizer()\n",
    "# )\n",
    "# # dataset = loader.create_dataset('../data/tox21.csv')\n",
    "# dataset = loader.create_dataset('./tox21_cleaned.csv')\n",
    "# splitter = dc.splits.ScaffoldSplitter()\n",
    "# train_dataset, valid_dataset, test_dataset = splitter.train_valid_test_split(dataset)"
   ]
  },
  {
   "cell_type": "code",
   "execution_count": 75,
   "metadata": {},
   "outputs": [],
   "source": [
    "# import deepchem as dc\n",
    "# from typing import List, Tuple, Union, Optional\n",
    "# import os\n",
    "# import pandas as pd\n",
    "# # from deepchem.molnet.load_function import TransformerGenerator\n",
    "# from deepchem.data import Dataset\n",
    "\n",
    "# # Custom TOX21-style loader for your own dataset\n",
    "# def load_custom_dataset(\n",
    "#     csv_path: str,\n",
    "#     featurizer: Union[dc.feat.Featurizer, str] = 'GraphConv',\n",
    "#     splitter: Union[dc.splits.Splitter, str, None] = 'scaffold',\n",
    "#     transformers = ['balancing'],\n",
    "#     reload: bool = False,\n",
    "#     data_dir: Optional[str] = None,\n",
    "#     save_dir: Optional[str] = None,\n",
    "#     tasks: Optional[List[str]] = None,\n",
    "#     smiles_field: str = 'smiles',\n",
    "#     **kwargs\n",
    "# ) -> Tuple[List[str], Tuple[Dataset, ...], List[dc.trans.Transformer]]:\n",
    "\n",
    "#     # Load data to get task columns if not specified\n",
    "#     df = pd.read_csv(csv_path)\n",
    "#     if tasks is None:\n",
    "#         tasks = [col for col in df.columns if col != smiles_field]\n",
    "\n",
    "#     # Define featurizer\n",
    "#     if isinstance(featurizer, str):\n",
    "#         if featurizer.lower() == 'graphconv':\n",
    "#             featurizer_obj = dc.feat.MolGraphConvFeaturizer(**kwargs)\n",
    "#         elif featurizer.lower() == 'ecfp':\n",
    "#             featurizer_obj = dc.feat.CircularFingerprint(size=1024)\n",
    "#         else:\n",
    "#             raise ValueError(f\"Unsupported featurizer: {featurizer}\")\n",
    "#     else:\n",
    "#         featurizer_obj = featurizer\n",
    "\n",
    "#     # Loader\n",
    "#     loader = dc.data.CSVLoader(tasks=tasks, feature_field=smiles_field, featurizer=featurizer_obj)\n",
    "#     dataset = loader.create_dataset(csv_path)\n",
    "\n",
    "#     # Apply transformers\n",
    "#     transformer_objs = []\n",
    "#     for transformer in transformers:\n",
    "#         if isinstance(transformer, str):\n",
    "#             if transformer == 'balancing':\n",
    "#                 t = dc.trans.BalancingTransformer(dataset)\n",
    "#             elif transformer == 'normalization':\n",
    "#                 t = dc.trans.BalancingTransformer(dataset)\n",
    "#             else:\n",
    "#                 raise ValueError(f\"Unsupported transformer: {transformer}\")\n",
    "#         else:\n",
    "#             t = transformer(dataset)\n",
    "#         dataset = t.transform(dataset)\n",
    "#         transformer_objs.append(t)\n",
    "\n",
    "#     # Split dataset\n",
    "#     if isinstance(splitter, str):\n",
    "#         if splitter.lower() == 'scaffold':\n",
    "#             splitter_obj = dc.splits.ScaffoldSplitter()\n",
    "#         elif splitter.lower() == 'random':\n",
    "#             splitter_obj = dc.splits.RandomSplitter()\n",
    "#         elif splitter.lower() == 'index':\n",
    "#             splitter_obj = dc.splits.IndexSplitter()\n",
    "#         else:\n",
    "#             raise ValueError(f\"Unsupported splitter: {splitter}\")\n",
    "#     elif splitter is None:\n",
    "#         return tasks, (dataset,), transformer_objs\n",
    "#     else:\n",
    "#         splitter_obj = splitter\n",
    "\n",
    "#     train, valid, test = splitter_obj.train_valid_test_split(dataset)\n",
    "#     return tasks, (train, valid, test), transformer_objs\n",
    "\n"
   ]
  },
  {
   "cell_type": "code",
   "execution_count": 74,
   "metadata": {},
   "outputs": [],
   "source": [
    "# # Example usage\n",
    "# csv_path = './tox21_cleaned.csv'\n",
    "# tasks, (train_dataset, valid_dataset, test_dataset), transformers = load_custom_dataset(\n",
    "#     csv_path=csv_path,\n",
    "#     featurizer='GraphConv',\n",
    "#     splitter='scaffold',\n",
    "#     transformers=['balancing'],\n",
    "#     reload=False,\n",
    "#     tasks=tasks\n",
    "# )\n",
    "# # Check the number of samples in each dataset\n",
    "# print(f\"Train samples: {len(train_dataset)}\")\n",
    "# print(f\"Validation samples: {len(valid_dataset)}\")\n",
    "# print(f\"Test samples: {len(test_dataset)}\")\n",
    "# # Check the tasks\n",
    "# print(f\"Tasks: {tasks}\")\n",
    "# # Check the first few samples in the training dataset\n",
    "# print(train_dataset.X[0])\n",
    "# print(train_dataset.y[0])\n",
    "# # Check the transformer\n",
    "# print(transformers[0])\n",
    "# # Check the transformer\n",
    "# print(transformers[0].transform_X)\n",
    "# # Check the transformer\n",
    "# print(transformers[0].transform_y)"
   ]
  },
  {
   "cell_type": "code",
   "execution_count": null,
   "metadata": {},
   "outputs": [],
   "source": [
    "# from deepchem.models.torch_models import GCNModel\n",
    "# from deepchem.models.torch_models import TorchModel\n",
    "# from deepchem.models.losses import SigmoidCrossEntropy\n",
    "# import torch\n",
    "\n",
    "# torch_device = torch.device('cpu')\n",
    "# gcn = GCNModel(n_tasks=len(tasks), mode='classification')\n",
    "# gcn.model.to(torch_device)  # Move the internal PyTorch model to the specified device\n",
    "# model = TorchModel(model=gcn.model, loss=SigmoidCrossEntropy())  # Use the internal PyTorch model"
   ]
  },
  {
   "cell_type": "code",
   "execution_count": 73,
   "metadata": {},
   "outputs": [],
   "source": [
    "# model.fit(train_dataset, nb_epoch=10)\n",
    "# # Evaluate the model\n",
    "# train_scores = model.evaluate(train_dataset, metrics=['accuracy', 'roc_auc'])\n",
    "# valid_scores = model.evaluate(valid_dataset, metrics=['accuracy', 'roc_auc'])\n",
    "# test_scores = model.evaluate(test_dataset, metrics=['accuracy', 'roc_auc'])\n",
    "# print(\"Train scores:\", train_scores)\n",
    "# print(\"Validation scores:\", valid_scores)"
   ]
  },
  {
   "cell_type": "code",
   "execution_count": 71,
   "metadata": {},
   "outputs": [],
   "source": [
    "# import deepchem as dc\n",
    "# import pandas as pd\n",
    "# import os\n",
    "\n",
    "# def load_my_data(csv_path, task_cols, featurizer='GraphConv', split='scaffold', reload=False):\n",
    "#     # Task columns (all except SMILES)\n",
    "#     df = pd.read_csv(csv_path)\n",
    "#     smiles_col = 'smiles'\n",
    "\n",
    "#     # Choose featurizer\n",
    "#     if featurizer == 'GraphConv':\n",
    "#         featurizer_obj = dc.feat.MolGraphConvFeaturizer()\n",
    "#     elif featurizer == 'ECFP':\n",
    "#         featurizer_obj = dc.feat.CircularFingerprint(size=1024)\n",
    "#     else:\n",
    "#         raise ValueError(f\"Unsupported featurizer: {featurizer}\")\n",
    "\n",
    "#     # Load and featurize dataset\n",
    "#     loader = dc.data.CSVLoader(\n",
    "#         tasks=task_cols,\n",
    "#         feature_field=smiles_col,\n",
    "#         featurizer=featurizer_obj\n",
    "#     )\n",
    "#     dataset = loader.create_dataset(csv_path)\n",
    "\n",
    "#     # # Transform labels (standardization)\n",
    "#     # transformers = [\n",
    "#     #     dc.trans.BalancingTransformer(transform_X=False, dataset=dataset)\n",
    "#     # ]\n",
    "#     # for transformer in transformers:\n",
    "#     #     dataset = transformer.transform(dataset)\n",
    "\n",
    "#     # Split the dataset\n",
    "#     if split == 'scaffold':\n",
    "#         splitter = dc.splits.ScaffoldSplitter()\n",
    "#     elif split == 'random':\n",
    "#         splitter = dc.splits.RandomSplitter()\n",
    "#     else:\n",
    "#         raise ValueError(f\"Unsupported split: {split}\")\n",
    "\n",
    "#     train, valid, test = splitter.train_valid_test_split(dataset)\n",
    "\n",
    "#     # Return like MoleculeNet: tasks, (train, valid, test), transformers\n",
    "#     return train, valid, test"
   ]
  },
  {
   "cell_type": "code",
   "execution_count": 72,
   "metadata": {},
   "outputs": [],
   "source": [
    "# train_dataset, valid_dataset, test_dataset = load_my_data(\"./tox21_cleaned.csv\", tasks, featurizer='GraphConv', split='scaffold', reload=False)"
   ]
  },
  {
   "cell_type": "code",
   "execution_count": null,
   "metadata": {},
   "outputs": [],
   "source": [
    "# from deepchem.metrics import to_one_hot\n",
    "# from deepchem.feat.mol_graphs import ConvMol\n",
    "# import numpy as np\n",
    "\n",
    "# def data_generator(dataset, epochs=1):\n",
    "#   for ind, (X_b, y_b, w_b, ids_b) in enumerate(dataset.iterbatches(batch_size, epochs,\n",
    "#                                                                    deterministic=False, pad_batches=True)):\n",
    "#     multiConvMol = ConvMol.agglomerate_mols(X_b)\n",
    "#     inputs = [multiConvMol.get_atom_features(), multiConvMol.deg_slice, np.array(multiConvMol.membership)]\n",
    "#     for i in range(1, len(multiConvMol.get_deg_adjacency_lists())):\n",
    "#       inputs.append(multiConvMol.get_deg_adjacency_lists()[i])\n",
    "#     labels = [to_one_hot(y_b.flatten(), 2).reshape(-1, len(tasks), 2)]\n",
    "#     weights = [w_b]\n",
    "#     yield (inputs, labels, weights)\n",
    "\n",
    "\n",
    "# # def data_generator(dataset, batch_size=32):\n",
    "# #     for X_b, y_b, w_b, ids_b in dataset.iterbatches(batch_size, pad_batches=True):\n",
    "# #         for graph in X_b:\n",
    "# #             node_feats = graph.node_features\n",
    "# #             edge_index = graph.edge_index\n",
    "# #             # Optional: edge_feats = graph.edge_features\n",
    "\n",
    "# #             yield {\n",
    "# #                 'node_features': node_feats,\n",
    "# #                 'edge_index': edge_index,\n",
    "# #                 'label': y_b  # You can yield y_b here if you like\n",
    "# #             }"
   ]
  },
  {
   "cell_type": "markdown",
   "metadata": {},
   "source": [
    "## 2. MPNN"
   ]
  },
  {
   "cell_type": "code",
   "execution_count": null,
   "metadata": {},
   "outputs": [],
   "source": []
  },
  {
   "cell_type": "code",
   "execution_count": null,
   "metadata": {},
   "outputs": [],
   "source": []
  },
  {
   "cell_type": "code",
   "execution_count": null,
   "metadata": {},
   "outputs": [],
   "source": []
  },
  {
   "cell_type": "code",
   "execution_count": null,
   "metadata": {},
   "outputs": [],
   "source": []
  },
  {
   "cell_type": "code",
   "execution_count": null,
   "metadata": {},
   "outputs": [],
   "source": []
  },
  {
   "cell_type": "code",
   "execution_count": null,
   "metadata": {},
   "outputs": [],
   "source": []
  },
  {
   "cell_type": "markdown",
   "metadata": {},
   "source": [
    "## 3. D-MPNN (ChemProp)\n",
    "https://github.com/chemprop/chemprop"
   ]
  },
  {
   "cell_type": "code",
   "execution_count": 2,
   "metadata": {},
   "outputs": [],
   "source": [
    "# %pip install chemprop"
   ]
  },
  {
   "cell_type": "code",
   "execution_count": 16,
   "metadata": {},
   "outputs": [],
   "source": [
    "import torch\n",
    "import numpy as np\n",
    "import pandas as pd\n",
    "from pathlib import Path\n",
    "from lightning import pytorch as pl\n",
    "from chemprop import data, featurizers, models, nn"
   ]
  },
  {
   "cell_type": "code",
   "execution_count": 5,
   "metadata": {},
   "outputs": [],
   "source": [
    "tox21_tasks = ['NR-AR', 'NR-AR-LBD', 'NR-AhR', 'NR-Aromatase', 'NR-ER', 'NR-ER-LBD',\n",
    "               'NR-PPAR-gamma', 'SR-ARE', 'SR-ATAD5', 'SR-HSE', 'SR-MMP', 'SR-p53']"
   ]
  },
  {
   "cell_type": "markdown",
   "metadata": {},
   "source": [
    "### Transform & Load Data"
   ]
  },
  {
   "cell_type": "code",
   "execution_count": null,
   "metadata": {},
   "outputs": [],
   "source": [
    "tox21_data = pd.read_csv('../data/tox21.csv')\n",
    "smiles = tox21_data.loc[:, 'smiles'].values\n",
    "targets = tox21_data.loc[:, tox21_tasks].values\n",
    "num_workers = 0\n",
    "\n",
    "# Convert to Chemprop's MoleculeDatapoint format\n",
    "all_data = [data.MoleculeDatapoint.from_smi(smi, y) for smi, y in zip(smiles, targets)]"
   ]
  },
  {
   "cell_type": "code",
   "execution_count": null,
   "metadata": {},
   "outputs": [
    {
     "name": "stderr",
     "output_type": "stream",
     "text": [
      "The return type of make_split_indices has changed in v2.1 - see help(make_split_indices)\n"
     ]
    }
   ],
   "source": [
    "# Transform into RDkit Mol objects for structure based splits\n",
    "mols = [d.mol for d in all_data]\n",
    "train_indices, val_indices, test_indices = data.make_split_indices(mols, \"random\", (0.7, 0.2, 0.1))\n",
    "train_data, val_data, test_data = data.split_data_by_indices(\n",
    "    all_data, train_indices, val_indices, test_indices\n",
    ")"
   ]
  },
  {
   "cell_type": "code",
   "execution_count": null,
   "metadata": {},
   "outputs": [],
   "source": [
    "# Featurize the data\n",
    "featurizer = featurizers.SimpleMoleculeMolGraphFeaturizer()\n",
    "\n",
    "train_data = data.MoleculeDataset(train_data[0], featurizer)\n",
    "val_data = data.MoleculeDataset(val_data[0], featurizer)\n",
    "test_data = data.MoleculeDataset(test_data[0], featurizer)\n",
    "\n",
    "# Create dataloaders\n",
    "train_loader = data.build_dataloader(train_data, num_workers=num_workers)\n",
    "val_loader = data.build_dataloader(val_data, num_workers=num_workers, shuffle=False)\n",
    "test_loader = data.build_dataloader(test_data, num_workers=num_workers, shuffle=False)"
   ]
  },
  {
   "cell_type": "markdown",
   "metadata": {},
   "source": [
    "### Set up MPNN"
   ]
  },
  {
   "cell_type": "code",
   "execution_count": null,
   "metadata": {},
   "outputs": [
    {
     "name": "stdout",
     "output_type": "stream",
     "text": [
      "ClassRegistry {\n",
      "    'mean': <class 'chemprop.nn.agg.MeanAggregation'>,\n",
      "    'sum': <class 'chemprop.nn.agg.SumAggregation'>,\n",
      "    'norm': <class 'chemprop.nn.agg.NormAggregation'>\n",
      "}\n"
     ]
    }
   ],
   "source": [
    "mp = nn.BondMessagePassing()\n",
    "agg = nn.MeanAggregation()\n",
    "# print(nn.agg.AggregationRegistry)\n",
    "\n",
    "ffn = nn.BinaryClassificationFFN(n_tasks=len(tox21_tasks))\n",
    "# print(nn.PredictorRegistry)"
   ]
  },
  {
   "cell_type": "code",
   "execution_count": null,
   "metadata": {},
   "outputs": [],
   "source": [
    "batch_norm = False\n",
    "metric_list = None   # AUROC used by default\n",
    "mpnn = models.MPNN(mp, agg, ffn, batch_norm, metric_list)\n",
    "mpnn"
   ]
  },
  {
   "cell_type": "markdown",
   "metadata": {},
   "source": [
    "### Training"
   ]
  },
  {
   "cell_type": "code",
   "execution_count": null,
   "metadata": {},
   "outputs": [
    {
     "name": "stderr",
     "output_type": "stream",
     "text": [
      "You are using the plain ModelCheckpoint callback. Consider using LitModelCheckpoint which with seamless uploading to Model registry.\n",
      "GPU available: True (mps), used: False\n",
      "TPU available: False, using: 0 TPU cores\n",
      "HPU available: False, using: 0 HPUs\n",
      "/opt/anaconda3/envs/chemprop_env/lib/python3.11/site-packages/lightning/pytorch/trainer/setup.py:177: GPU available but not used. You can set it by doing `Trainer(accelerator='gpu')`.\n"
     ]
    }
   ],
   "source": [
    "trainer = pl.Trainer(\n",
    "    logger=False,\n",
    "    enable_checkpointing=False, # Use `True` if you want to save model checkpoints. The checkpoints will be saved in the `checkpoints` folder.\n",
    "    enable_progress_bar=True,\n",
    "    accelerator=\"cpu\",\n",
    "    devices=1,\n",
    "    max_epochs=20, # number of epochs to train for\n",
    ")"
   ]
  },
  {
   "cell_type": "code",
   "execution_count": 37,
   "metadata": {},
   "outputs": [
    {
     "name": "stderr",
     "output_type": "stream",
     "text": [
      "/opt/anaconda3/envs/chemprop_env/lib/python3.11/site-packages/lightning/pytorch/callbacks/model_checkpoint.py:654: Checkpoint directory /Users/jiamingding/Library/CloudStorage/OneDrive-NationalUniversityofSingapore/NUS/sem2/DSS5104/DSS5104-MolecularPropertiesGNN/playground/checkpoints exists and is not empty.\n",
      "Loading `train_dataloader` to estimate number of stepping batches.\n",
      "/opt/anaconda3/envs/chemprop_env/lib/python3.11/site-packages/lightning/pytorch/trainer/connectors/data_connector.py:425: The 'train_dataloader' does not have many workers which may be a bottleneck. Consider increasing the value of the `num_workers` argument` to `num_workers=7` in the `DataLoader` to improve performance.\n",
      "\n",
      "  | Name            | Type                    | Params | Mode \n",
      "--------------------------------------------------------------------\n",
      "0 | message_passing | BondMessagePassing      | 227 K  | eval \n",
      "1 | agg             | MeanAggregation         | 0      | eval \n",
      "2 | bn              | Identity                | 0      | train\n",
      "3 | predictor       | BinaryClassificationFFN | 93.9 K | train\n",
      "4 | X_d_transform   | Identity                | 0      | train\n",
      "5 | metrics         | ModuleList              | 0      | train\n",
      "--------------------------------------------------------------------\n",
      "321 K     Trainable params\n",
      "0         Non-trainable params\n",
      "321 K     Total params\n",
      "1.286     Total estimated model params size (MB)\n",
      "17        Modules in train mode\n",
      "7         Modules in eval mode\n"
     ]
    },
    {
     "name": "stdout",
     "output_type": "stream",
     "text": [
      "                                                                           "
     ]
    },
    {
     "name": "stderr",
     "output_type": "stream",
     "text": [
      "/opt/anaconda3/envs/chemprop_env/lib/python3.11/site-packages/lightning/pytorch/trainer/connectors/data_connector.py:425: The 'val_dataloader' does not have many workers which may be a bottleneck. Consider increasing the value of the `num_workers` argument` to `num_workers=7` in the `DataLoader` to improve performance.\n"
     ]
    },
    {
     "name": "stdout",
     "output_type": "stream",
     "text": [
      "Epoch 19: 100%|██████████| 88/88 [00:05<00:00, 16.67it/s, train_loss_step=0.226, val_loss=0.188, train_loss_epoch=0.168] "
     ]
    },
    {
     "name": "stderr",
     "output_type": "stream",
     "text": [
      "`Trainer.fit` stopped: `max_epochs=20` reached.\n"
     ]
    },
    {
     "name": "stdout",
     "output_type": "stream",
     "text": [
      "Epoch 19: 100%|██████████| 88/88 [00:05<00:00, 16.63it/s, train_loss_step=0.226, val_loss=0.188, train_loss_epoch=0.168]\n"
     ]
    }
   ],
   "source": [
    "trainer.fit(mpnn, train_loader, val_loader)"
   ]
  },
  {
   "cell_type": "markdown",
   "metadata": {},
   "source": [
    "### Testing"
   ]
  },
  {
   "cell_type": "code",
   "execution_count": 38,
   "metadata": {},
   "outputs": [
    {
     "name": "stderr",
     "output_type": "stream",
     "text": [
      "/opt/anaconda3/envs/chemprop_env/lib/python3.11/site-packages/lightning/pytorch/trainer/connectors/data_connector.py:425: The 'test_dataloader' does not have many workers which may be a bottleneck. Consider increasing the value of the `num_workers` argument` to `num_workers=7` in the `DataLoader` to improve performance.\n"
     ]
    },
    {
     "name": "stdout",
     "output_type": "stream",
     "text": [
      "Testing DataLoader 0: 100%|██████████| 13/13 [00:00<00:00, 39.51it/s]\n"
     ]
    },
    {
     "data": {
      "text/html": [
       "<pre style=\"white-space:pre;overflow-x:auto;line-height:normal;font-family:Menlo,'DejaVu Sans Mono',consolas,'Courier New',monospace\">┏━━━━━━━━━━━━━━━━━━━━━━━━━━━┳━━━━━━━━━━━━━━━━━━━━━━━━━━━┓\n",
       "┃<span style=\"font-weight: bold\">        Test metric        </span>┃<span style=\"font-weight: bold\">       DataLoader 0        </span>┃\n",
       "┡━━━━━━━━━━━━━━━━━━━━━━━━━━━╇━━━━━━━━━━━━━━━━━━━━━━━━━━━┩\n",
       "│<span style=\"color: #008080; text-decoration-color: #008080\">         test/roc          </span>│<span style=\"color: #800080; text-decoration-color: #800080\">    0.8623346090316772     </span>│\n",
       "└───────────────────────────┴───────────────────────────┘\n",
       "</pre>\n"
      ],
      "text/plain": [
       "┏━━━━━━━━━━━━━━━━━━━━━━━━━━━┳━━━━━━━━━━━━━━━━━━━━━━━━━━━┓\n",
       "┃\u001b[1m \u001b[0m\u001b[1m       Test metric       \u001b[0m\u001b[1m \u001b[0m┃\u001b[1m \u001b[0m\u001b[1m      DataLoader 0       \u001b[0m\u001b[1m \u001b[0m┃\n",
       "┡━━━━━━━━━━━━━━━━━━━━━━━━━━━╇━━━━━━━━━━━━━━━━━━━━━━━━━━━┩\n",
       "│\u001b[36m \u001b[0m\u001b[36m        test/roc         \u001b[0m\u001b[36m \u001b[0m│\u001b[35m \u001b[0m\u001b[35m   0.8623346090316772    \u001b[0m\u001b[35m \u001b[0m│\n",
       "└───────────────────────────┴───────────────────────────┘\n"
      ]
     },
     "metadata": {},
     "output_type": "display_data"
    }
   ],
   "source": [
    "results = trainer.test(mpnn, test_loader)"
   ]
  }
 ],
 "metadata": {
  "kernelspec": {
   "display_name": "chemprop_env",
   "language": "python",
   "name": "python3"
  },
  "language_info": {
   "codemirror_mode": {
    "name": "ipython",
    "version": 3
   },
   "file_extension": ".py",
   "mimetype": "text/x-python",
   "name": "python",
   "nbconvert_exporter": "python",
   "pygments_lexer": "ipython3",
   "version": "3.11.11"
  }
 },
 "nbformat": 4,
 "nbformat_minor": 2
}
