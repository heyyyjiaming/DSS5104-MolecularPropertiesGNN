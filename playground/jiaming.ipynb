{
 "cells": [
  {
   "cell_type": "code",
   "execution_count": null,
   "metadata": {},
   "outputs": [],
   "source": [
    "# %pip install pandas numpy\n",
    "# %pip install scikit-learn\n",
    "# %pip install RDKit\n",
    "# %pip install matplotlib networkx"
   ]
  },
  {
   "cell_type": "code",
   "execution_count": null,
   "metadata": {},
   "outputs": [
    {
     "data": {
      "application/vnd.microsoft.datawrangler.viewer.v0+json": {
       "columns": [
        {
         "name": "index",
         "rawType": "int64",
         "type": "integer"
        },
        {
         "name": "NR-AR",
         "rawType": "float64",
         "type": "float"
        },
        {
         "name": "NR-AR-LBD",
         "rawType": "float64",
         "type": "float"
        },
        {
         "name": "NR-AhR",
         "rawType": "float64",
         "type": "float"
        },
        {
         "name": "NR-Aromatase",
         "rawType": "float64",
         "type": "float"
        },
        {
         "name": "NR-ER",
         "rawType": "float64",
         "type": "float"
        },
        {
         "name": "NR-ER-LBD",
         "rawType": "float64",
         "type": "float"
        },
        {
         "name": "NR-PPAR-gamma",
         "rawType": "float64",
         "type": "float"
        },
        {
         "name": "SR-ARE",
         "rawType": "float64",
         "type": "float"
        },
        {
         "name": "SR-ATAD5",
         "rawType": "float64",
         "type": "float"
        },
        {
         "name": "SR-HSE",
         "rawType": "float64",
         "type": "float"
        },
        {
         "name": "SR-MMP",
         "rawType": "float64",
         "type": "float"
        },
        {
         "name": "SR-p53",
         "rawType": "float64",
         "type": "float"
        },
        {
         "name": "mol_id",
         "rawType": "object",
         "type": "string"
        },
        {
         "name": "smiles",
         "rawType": "object",
         "type": "string"
        }
       ],
       "conversionMethod": "pd.DataFrame",
       "ref": "ef8fc1f8-9bfd-4664-a1e7-a1a6b816e567",
       "rows": [
        [
         "0",
         "0.0",
         "0.0",
         "1.0",
         null,
         null,
         "0.0",
         "0.0",
         "1.0",
         "0.0",
         "0.0",
         "0.0",
         "0.0",
         "TOX3021",
         "CCOc1ccc2nc(S(N)(=O)=O)sc2c1"
        ],
        [
         "1",
         "0.0",
         "0.0",
         "0.0",
         "0.0",
         "0.0",
         "0.0",
         "0.0",
         null,
         "0.0",
         null,
         "0.0",
         "0.0",
         "TOX3020",
         "CCN1C(=O)NC(c2ccccc2)C1=O"
        ]
       ],
       "shape": {
        "columns": 14,
        "rows": 2
       }
      },
      "text/html": [
       "<div>\n",
       "<style scoped>\n",
       "    .dataframe tbody tr th:only-of-type {\n",
       "        vertical-align: middle;\n",
       "    }\n",
       "\n",
       "    .dataframe tbody tr th {\n",
       "        vertical-align: top;\n",
       "    }\n",
       "\n",
       "    .dataframe thead th {\n",
       "        text-align: right;\n",
       "    }\n",
       "</style>\n",
       "<table border=\"1\" class=\"dataframe\">\n",
       "  <thead>\n",
       "    <tr style=\"text-align: right;\">\n",
       "      <th></th>\n",
       "      <th>NR-AR</th>\n",
       "      <th>NR-AR-LBD</th>\n",
       "      <th>NR-AhR</th>\n",
       "      <th>NR-Aromatase</th>\n",
       "      <th>NR-ER</th>\n",
       "      <th>NR-ER-LBD</th>\n",
       "      <th>NR-PPAR-gamma</th>\n",
       "      <th>SR-ARE</th>\n",
       "      <th>SR-ATAD5</th>\n",
       "      <th>SR-HSE</th>\n",
       "      <th>SR-MMP</th>\n",
       "      <th>SR-p53</th>\n",
       "      <th>mol_id</th>\n",
       "      <th>smiles</th>\n",
       "    </tr>\n",
       "  </thead>\n",
       "  <tbody>\n",
       "    <tr>\n",
       "      <th>0</th>\n",
       "      <td>0.0</td>\n",
       "      <td>0.0</td>\n",
       "      <td>1.0</td>\n",
       "      <td>NaN</td>\n",
       "      <td>NaN</td>\n",
       "      <td>0.0</td>\n",
       "      <td>0.0</td>\n",
       "      <td>1.0</td>\n",
       "      <td>0.0</td>\n",
       "      <td>0.0</td>\n",
       "      <td>0.0</td>\n",
       "      <td>0.0</td>\n",
       "      <td>TOX3021</td>\n",
       "      <td>CCOc1ccc2nc(S(N)(=O)=O)sc2c1</td>\n",
       "    </tr>\n",
       "    <tr>\n",
       "      <th>1</th>\n",
       "      <td>0.0</td>\n",
       "      <td>0.0</td>\n",
       "      <td>0.0</td>\n",
       "      <td>0.0</td>\n",
       "      <td>0.0</td>\n",
       "      <td>0.0</td>\n",
       "      <td>0.0</td>\n",
       "      <td>NaN</td>\n",
       "      <td>0.0</td>\n",
       "      <td>NaN</td>\n",
       "      <td>0.0</td>\n",
       "      <td>0.0</td>\n",
       "      <td>TOX3020</td>\n",
       "      <td>CCN1C(=O)NC(c2ccccc2)C1=O</td>\n",
       "    </tr>\n",
       "  </tbody>\n",
       "</table>\n",
       "</div>"
      ],
      "text/plain": [
       "   NR-AR  NR-AR-LBD  NR-AhR  NR-Aromatase  NR-ER  NR-ER-LBD  NR-PPAR-gamma  \\\n",
       "0    0.0        0.0     1.0           NaN    NaN        0.0            0.0   \n",
       "1    0.0        0.0     0.0           0.0    0.0        0.0            0.0   \n",
       "\n",
       "   SR-ARE  SR-ATAD5  SR-HSE  SR-MMP  SR-p53   mol_id  \\\n",
       "0     1.0       0.0     0.0     0.0     0.0  TOX3021   \n",
       "1     NaN       0.0     NaN     0.0     0.0  TOX3020   \n",
       "\n",
       "                         smiles  \n",
       "0  CCOc1ccc2nc(S(N)(=O)=O)sc2c1  \n",
       "1     CCN1C(=O)NC(c2ccccc2)C1=O  "
      ]
     },
     "execution_count": 7,
     "metadata": {},
     "output_type": "execute_result"
    }
   ],
   "source": [
    "import pandas as pd\n",
    "tox_data = pd.read_csv('../data/tox21.csv')\n",
    "tox_data.head(2)"
   ]
  },
  {
   "cell_type": "code",
   "execution_count": null,
   "metadata": {},
   "outputs": [],
   "source": [
    "from rdkit import Chem\n",
    "from rdkit.Chem import Draw\n",
    "import networkx as nx\n",
    "import matplotlib.pyplot as plt\n",
    "\n",
    "smiles_sample = tox_data['smiles'][0].strip()\n",
    "mol = Chem.MolFromSmiles(smiles_sample)\n",
    "Draw.MolToImage(mol)\n"
   ]
  },
  {
   "cell_type": "code",
   "execution_count": null,
   "metadata": {},
   "outputs": [],
   "source": [
    "def smiles_to_graph(smiles):\n",
    "    mol = Chem.MolFromSmiles(smiles)\n",
    "    G = nx.Graph()\n",
    "    \n",
    "    # 添加原子节点\n",
    "    for atom in mol.GetAtoms():\n",
    "        idx = atom.GetIdx()\n",
    "        G.add_node(idx, label=atom.GetSymbol())\n",
    "    \n",
    "    # 添加键（边）\n",
    "    for bond in mol.GetBonds():\n",
    "        a1 = bond.GetBeginAtomIdx()\n",
    "        a2 = bond.GetEndAtomIdx()\n",
    "        bond_type = str(bond.GetBondType())\n",
    "        G.add_edge(a1, a2, label=bond_type)\n",
    "    \n",
    "    return G, mol\n",
    "\n",
    "def draw_graph(G):\n",
    "    pos = nx.spring_layout(G)\n",
    "    labels = nx.get_node_attributes(G, 'label')\n",
    "    edge_labels = nx.get_edge_attributes(G, 'label')\n",
    "\n",
    "    plt.figure(figsize=(6, 5))\n",
    "    nx.draw(G, pos, with_labels=True, labels=labels, node_color='lightblue', node_size=1000, font_size=12)\n",
    "    nx.draw_networkx_edge_labels(G, pos, edge_labels=edge_labels, font_color='red')\n",
    "    plt.title(\"Molecular Graph\")\n",
    "    plt.axis('off')\n",
    "    plt.show()\n",
    "    \n",
    "    \n",
    "G, mol = smiles_to_graph(smiles_sample)\n",
    "draw_graph(G)"
   ]
  }
 ],
 "metadata": {
  "kernelspec": {
   "display_name": "mpGNN_env",
   "language": "python",
   "name": "python3"
  },
  "language_info": {
   "codemirror_mode": {
    "name": "ipython",
    "version": 3
   },
   "file_extension": ".py",
   "mimetype": "text/x-python",
   "name": "python",
   "nbconvert_exporter": "python",
   "pygments_lexer": "ipython3",
   "version": "3.12.9"
  }
 },
 "nbformat": 4,
 "nbformat_minor": 2
}
